{
  "nbformat": 4,
  "nbformat_minor": 0,
  "metadata": {
    "colab": {
      "provenance": [],
      "authorship_tag": "ABX9TyNfr+txAMUx/lbuqHgmIboN",
      "include_colab_link": true
    },
    "kernelspec": {
      "name": "python3",
      "display_name": "Python 3"
    },
    "language_info": {
      "name": "python"
    }
  },
  "cells": [
    {
      "cell_type": "markdown",
      "metadata": {
        "id": "view-in-github",
        "colab_type": "text"
      },
      "source": [
        "<a href=\"https://colab.research.google.com/github/rmanzi13/Plataforma_Cocina_para_Validar_chefs/blob/main/chefs_chefs.ipynb\" target=\"_parent\"><img src=\"https://colab.research.google.com/assets/colab-badge.svg\" alt=\"Open In Colab\"/></a>"
      ]
    },
    {
      "cell_type": "code",
      "source": [
        "import pandas as pd\n",
        "import json"
      ],
      "metadata": {
        "id": "VvnYghRnlNgR"
      },
      "execution_count": null,
      "outputs": []
    },
    {
      "cell_type": "code",
      "source": [
        "ruta_chefs = ('chefs.json')\n",
        "\n",
        "with open(ruta_chefs,'r') as file:\n",
        "  data = json.load(file)\n",
        "\n",
        "df_chefs = pd.DataFrame(data)"
      ],
      "metadata": {
        "id": "aaqg5213qYIC"
      },
      "execution_count": null,
      "outputs": []
    },
    {
      "cell_type": "code",
      "source": [
        "df_chefs.head()"
      ],
      "metadata": {
        "colab": {
          "base_uri": "https://localhost:8080/",
          "height": 293
        },
        "id": "nm6ou492q_BB",
        "outputId": "40dec6ff-3f19-4eaf-9a9f-63cf49255290"
      },
      "execution_count": null,
      "outputs": [
        {
          "output_type": "execute_result",
          "data": {
            "text/plain": [
              "   _id           name                                              photo  \\\n",
              "0    1      Nolan Rus  https://upload.wikimedia.org/wikipedia/commons...   \n",
              "1    2   Toni Peinado  https://upload.wikimedia.org/wikipedia/commons...   \n",
              "2    3   Jackson Pena  https://upload.wikimedia.org/wikipedia/commons...   \n",
              "3    4   Salvador Liu  https://upload.wikimedia.org/wikipedia/commons...   \n",
              "4    5  Borja Herranz  https://upload.wikimedia.org/wikipedia/commons...   \n",
              "\n",
              "                                 culinary_experience  \\\n",
              "0                                Experiencia laboral   \n",
              "1  Participación en competencias culinarias inter...   \n",
              "2                                    Sin experiencia   \n",
              "3  Participación en competencias culinarias nacio...   \n",
              "4  Participación en competencias culinarias inter...   \n",
              "\n",
              "                   specialties  \\\n",
              "0               Chef pastelero   \n",
              "1  Chef de comida mediterranea   \n",
              "2             Sin especialidad   \n",
              "3               Chef de carnes   \n",
              "4      Chef de comida asiática   \n",
              "\n",
              "                                 geographic_location  \\\n",
              "0    principe de vergara 63, Madrid (Ciudad). Madrid   \n",
              "1                    Madrid, Madrid (Ciudad). Madrid   \n",
              "2      Calle Belgrado 9, Las Rozas de Madrid. Madrid   \n",
              "3                     Plasencia 67, Móstoles. Madrid   \n",
              "4  Calle Valportillo Primera 5, Nave A06 A07, Mad...   \n",
              "\n",
              "                                     social_networks  \n",
              "0  [{'name': 'Instagram', 'username': 'nolanrus32...  \n",
              "1  [{'name': 'Instagram', 'username': 'tonipeinad...  \n",
              "2  [{'name': 'Instagram', 'username': 'jacksonpen...  \n",
              "3  [{'name': 'Instagram', 'username': 'salvadorli...  \n",
              "4  [{'name': 'Instagram', 'username': 'borjaherra...  "
            ],
            "text/html": [
              "\n",
              "  <div id=\"df-f1ff008f-769c-462d-8f93-017199dc96c2\" class=\"colab-df-container\">\n",
              "    <div>\n",
              "<style scoped>\n",
              "    .dataframe tbody tr th:only-of-type {\n",
              "        vertical-align: middle;\n",
              "    }\n",
              "\n",
              "    .dataframe tbody tr th {\n",
              "        vertical-align: top;\n",
              "    }\n",
              "\n",
              "    .dataframe thead th {\n",
              "        text-align: right;\n",
              "    }\n",
              "</style>\n",
              "<table border=\"1\" class=\"dataframe\">\n",
              "  <thead>\n",
              "    <tr style=\"text-align: right;\">\n",
              "      <th></th>\n",
              "      <th>_id</th>\n",
              "      <th>name</th>\n",
              "      <th>photo</th>\n",
              "      <th>culinary_experience</th>\n",
              "      <th>specialties</th>\n",
              "      <th>geographic_location</th>\n",
              "      <th>social_networks</th>\n",
              "    </tr>\n",
              "  </thead>\n",
              "  <tbody>\n",
              "    <tr>\n",
              "      <th>0</th>\n",
              "      <td>1</td>\n",
              "      <td>Nolan Rus</td>\n",
              "      <td>https://upload.wikimedia.org/wikipedia/commons...</td>\n",
              "      <td>Experiencia laboral</td>\n",
              "      <td>Chef pastelero</td>\n",
              "      <td>principe de vergara 63, Madrid (Ciudad). Madrid</td>\n",
              "      <td>[{'name': 'Instagram', 'username': 'nolanrus32...</td>\n",
              "    </tr>\n",
              "    <tr>\n",
              "      <th>1</th>\n",
              "      <td>2</td>\n",
              "      <td>Toni Peinado</td>\n",
              "      <td>https://upload.wikimedia.org/wikipedia/commons...</td>\n",
              "      <td>Participación en competencias culinarias inter...</td>\n",
              "      <td>Chef de comida mediterranea</td>\n",
              "      <td>Madrid, Madrid (Ciudad). Madrid</td>\n",
              "      <td>[{'name': 'Instagram', 'username': 'tonipeinad...</td>\n",
              "    </tr>\n",
              "    <tr>\n",
              "      <th>2</th>\n",
              "      <td>3</td>\n",
              "      <td>Jackson Pena</td>\n",
              "      <td>https://upload.wikimedia.org/wikipedia/commons...</td>\n",
              "      <td>Sin experiencia</td>\n",
              "      <td>Sin especialidad</td>\n",
              "      <td>Calle Belgrado 9, Las Rozas de Madrid. Madrid</td>\n",
              "      <td>[{'name': 'Instagram', 'username': 'jacksonpen...</td>\n",
              "    </tr>\n",
              "    <tr>\n",
              "      <th>3</th>\n",
              "      <td>4</td>\n",
              "      <td>Salvador Liu</td>\n",
              "      <td>https://upload.wikimedia.org/wikipedia/commons...</td>\n",
              "      <td>Participación en competencias culinarias nacio...</td>\n",
              "      <td>Chef de carnes</td>\n",
              "      <td>Plasencia 67, Móstoles. Madrid</td>\n",
              "      <td>[{'name': 'Instagram', 'username': 'salvadorli...</td>\n",
              "    </tr>\n",
              "    <tr>\n",
              "      <th>4</th>\n",
              "      <td>5</td>\n",
              "      <td>Borja Herranz</td>\n",
              "      <td>https://upload.wikimedia.org/wikipedia/commons...</td>\n",
              "      <td>Participación en competencias culinarias inter...</td>\n",
              "      <td>Chef de comida asiática</td>\n",
              "      <td>Calle Valportillo Primera 5, Nave A06 A07, Mad...</td>\n",
              "      <td>[{'name': 'Instagram', 'username': 'borjaherra...</td>\n",
              "    </tr>\n",
              "  </tbody>\n",
              "</table>\n",
              "</div>\n",
              "    <div class=\"colab-df-buttons\">\n",
              "\n",
              "  <div class=\"colab-df-container\">\n",
              "    <button class=\"colab-df-convert\" onclick=\"convertToInteractive('df-f1ff008f-769c-462d-8f93-017199dc96c2')\"\n",
              "            title=\"Convert this dataframe to an interactive table.\"\n",
              "            style=\"display:none;\">\n",
              "\n",
              "  <svg xmlns=\"http://www.w3.org/2000/svg\" height=\"24px\" viewBox=\"0 -960 960 960\">\n",
              "    <path d=\"M120-120v-720h720v720H120Zm60-500h600v-160H180v160Zm220 220h160v-160H400v160Zm0 220h160v-160H400v160ZM180-400h160v-160H180v160Zm440 0h160v-160H620v160ZM180-180h160v-160H180v160Zm440 0h160v-160H620v160Z\"/>\n",
              "  </svg>\n",
              "    </button>\n",
              "\n",
              "  <style>\n",
              "    .colab-df-container {\n",
              "      display:flex;\n",
              "      gap: 12px;\n",
              "    }\n",
              "\n",
              "    .colab-df-convert {\n",
              "      background-color: #E8F0FE;\n",
              "      border: none;\n",
              "      border-radius: 50%;\n",
              "      cursor: pointer;\n",
              "      display: none;\n",
              "      fill: #1967D2;\n",
              "      height: 32px;\n",
              "      padding: 0 0 0 0;\n",
              "      width: 32px;\n",
              "    }\n",
              "\n",
              "    .colab-df-convert:hover {\n",
              "      background-color: #E2EBFA;\n",
              "      box-shadow: 0px 1px 2px rgba(60, 64, 67, 0.3), 0px 1px 3px 1px rgba(60, 64, 67, 0.15);\n",
              "      fill: #174EA6;\n",
              "    }\n",
              "\n",
              "    .colab-df-buttons div {\n",
              "      margin-bottom: 4px;\n",
              "    }\n",
              "\n",
              "    [theme=dark] .colab-df-convert {\n",
              "      background-color: #3B4455;\n",
              "      fill: #D2E3FC;\n",
              "    }\n",
              "\n",
              "    [theme=dark] .colab-df-convert:hover {\n",
              "      background-color: #434B5C;\n",
              "      box-shadow: 0px 1px 3px 1px rgba(0, 0, 0, 0.15);\n",
              "      filter: drop-shadow(0px 1px 2px rgba(0, 0, 0, 0.3));\n",
              "      fill: #FFFFFF;\n",
              "    }\n",
              "  </style>\n",
              "\n",
              "    <script>\n",
              "      const buttonEl =\n",
              "        document.querySelector('#df-f1ff008f-769c-462d-8f93-017199dc96c2 button.colab-df-convert');\n",
              "      buttonEl.style.display =\n",
              "        google.colab.kernel.accessAllowed ? 'block' : 'none';\n",
              "\n",
              "      async function convertToInteractive(key) {\n",
              "        const element = document.querySelector('#df-f1ff008f-769c-462d-8f93-017199dc96c2');\n",
              "        const dataTable =\n",
              "          await google.colab.kernel.invokeFunction('convertToInteractive',\n",
              "                                                    [key], {});\n",
              "        if (!dataTable) return;\n",
              "\n",
              "        const docLinkHtml = 'Like what you see? Visit the ' +\n",
              "          '<a target=\"_blank\" href=https://colab.research.google.com/notebooks/data_table.ipynb>data table notebook</a>'\n",
              "          + ' to learn more about interactive tables.';\n",
              "        element.innerHTML = '';\n",
              "        dataTable['output_type'] = 'display_data';\n",
              "        await google.colab.output.renderOutput(dataTable, element);\n",
              "        const docLink = document.createElement('div');\n",
              "        docLink.innerHTML = docLinkHtml;\n",
              "        element.appendChild(docLink);\n",
              "      }\n",
              "    </script>\n",
              "  </div>\n",
              "\n",
              "\n",
              "<div id=\"df-456b7b17-aed3-42b0-a68a-de137c6f11e8\">\n",
              "  <button class=\"colab-df-quickchart\" onclick=\"quickchart('df-456b7b17-aed3-42b0-a68a-de137c6f11e8')\"\n",
              "            title=\"Suggest charts\"\n",
              "            style=\"display:none;\">\n",
              "\n",
              "<svg xmlns=\"http://www.w3.org/2000/svg\" height=\"24px\"viewBox=\"0 0 24 24\"\n",
              "     width=\"24px\">\n",
              "    <g>\n",
              "        <path d=\"M19 3H5c-1.1 0-2 .9-2 2v14c0 1.1.9 2 2 2h14c1.1 0 2-.9 2-2V5c0-1.1-.9-2-2-2zM9 17H7v-7h2v7zm4 0h-2V7h2v10zm4 0h-2v-4h2v4z\"/>\n",
              "    </g>\n",
              "</svg>\n",
              "  </button>\n",
              "\n",
              "<style>\n",
              "  .colab-df-quickchart {\n",
              "      --bg-color: #E8F0FE;\n",
              "      --fill-color: #1967D2;\n",
              "      --hover-bg-color: #E2EBFA;\n",
              "      --hover-fill-color: #174EA6;\n",
              "      --disabled-fill-color: #AAA;\n",
              "      --disabled-bg-color: #DDD;\n",
              "  }\n",
              "\n",
              "  [theme=dark] .colab-df-quickchart {\n",
              "      --bg-color: #3B4455;\n",
              "      --fill-color: #D2E3FC;\n",
              "      --hover-bg-color: #434B5C;\n",
              "      --hover-fill-color: #FFFFFF;\n",
              "      --disabled-bg-color: #3B4455;\n",
              "      --disabled-fill-color: #666;\n",
              "  }\n",
              "\n",
              "  .colab-df-quickchart {\n",
              "    background-color: var(--bg-color);\n",
              "    border: none;\n",
              "    border-radius: 50%;\n",
              "    cursor: pointer;\n",
              "    display: none;\n",
              "    fill: var(--fill-color);\n",
              "    height: 32px;\n",
              "    padding: 0;\n",
              "    width: 32px;\n",
              "  }\n",
              "\n",
              "  .colab-df-quickchart:hover {\n",
              "    background-color: var(--hover-bg-color);\n",
              "    box-shadow: 0 1px 2px rgba(60, 64, 67, 0.3), 0 1px 3px 1px rgba(60, 64, 67, 0.15);\n",
              "    fill: var(--button-hover-fill-color);\n",
              "  }\n",
              "\n",
              "  .colab-df-quickchart-complete:disabled,\n",
              "  .colab-df-quickchart-complete:disabled:hover {\n",
              "    background-color: var(--disabled-bg-color);\n",
              "    fill: var(--disabled-fill-color);\n",
              "    box-shadow: none;\n",
              "  }\n",
              "\n",
              "  .colab-df-spinner {\n",
              "    border: 2px solid var(--fill-color);\n",
              "    border-color: transparent;\n",
              "    border-bottom-color: var(--fill-color);\n",
              "    animation:\n",
              "      spin 1s steps(1) infinite;\n",
              "  }\n",
              "\n",
              "  @keyframes spin {\n",
              "    0% {\n",
              "      border-color: transparent;\n",
              "      border-bottom-color: var(--fill-color);\n",
              "      border-left-color: var(--fill-color);\n",
              "    }\n",
              "    20% {\n",
              "      border-color: transparent;\n",
              "      border-left-color: var(--fill-color);\n",
              "      border-top-color: var(--fill-color);\n",
              "    }\n",
              "    30% {\n",
              "      border-color: transparent;\n",
              "      border-left-color: var(--fill-color);\n",
              "      border-top-color: var(--fill-color);\n",
              "      border-right-color: var(--fill-color);\n",
              "    }\n",
              "    40% {\n",
              "      border-color: transparent;\n",
              "      border-right-color: var(--fill-color);\n",
              "      border-top-color: var(--fill-color);\n",
              "    }\n",
              "    60% {\n",
              "      border-color: transparent;\n",
              "      border-right-color: var(--fill-color);\n",
              "    }\n",
              "    80% {\n",
              "      border-color: transparent;\n",
              "      border-right-color: var(--fill-color);\n",
              "      border-bottom-color: var(--fill-color);\n",
              "    }\n",
              "    90% {\n",
              "      border-color: transparent;\n",
              "      border-bottom-color: var(--fill-color);\n",
              "    }\n",
              "  }\n",
              "</style>\n",
              "\n",
              "  <script>\n",
              "    async function quickchart(key) {\n",
              "      const quickchartButtonEl =\n",
              "        document.querySelector('#' + key + ' button');\n",
              "      quickchartButtonEl.disabled = true;  // To prevent multiple clicks.\n",
              "      quickchartButtonEl.classList.add('colab-df-spinner');\n",
              "      try {\n",
              "        const charts = await google.colab.kernel.invokeFunction(\n",
              "            'suggestCharts', [key], {});\n",
              "      } catch (error) {\n",
              "        console.error('Error during call to suggestCharts:', error);\n",
              "      }\n",
              "      quickchartButtonEl.classList.remove('colab-df-spinner');\n",
              "      quickchartButtonEl.classList.add('colab-df-quickchart-complete');\n",
              "    }\n",
              "    (() => {\n",
              "      let quickchartButtonEl =\n",
              "        document.querySelector('#df-456b7b17-aed3-42b0-a68a-de137c6f11e8 button');\n",
              "      quickchartButtonEl.style.display =\n",
              "        google.colab.kernel.accessAllowed ? 'block' : 'none';\n",
              "    })();\n",
              "  </script>\n",
              "</div>\n",
              "    </div>\n",
              "  </div>\n"
            ]
          },
          "metadata": {},
          "execution_count": 3
        }
      ]
    },
    {
      "cell_type": "code",
      "source": [
        "df_chefs.shape"
      ],
      "metadata": {
        "colab": {
          "base_uri": "https://localhost:8080/"
        },
        "id": "hNG_sAVIrR0q",
        "outputId": "35ab2d49-d198-4b71-ad30-8223512e3be8"
      },
      "execution_count": null,
      "outputs": [
        {
          "output_type": "execute_result",
          "data": {
            "text/plain": [
              "(1200, 7)"
            ]
          },
          "metadata": {},
          "execution_count": 4
        }
      ]
    },
    {
      "cell_type": "code",
      "source": [
        "pd.set_option('display.max_rows', None)\n",
        "unique_specialties = df_chefs['specialties'].value_counts()\n",
        "print(unique_specialties)"
      ],
      "metadata": {
        "colab": {
          "base_uri": "https://localhost:8080/"
        },
        "id": "3feyTDxltY4s",
        "outputId": "e7808588-caae-4da9-9b94-1437c6f41927"
      },
      "execution_count": null,
      "outputs": [
        {
          "output_type": "stream",
          "name": "stdout",
          "text": [
            "Sin especialidad               248\n",
            "Chef de pescado                 66\n",
            "Chef de comida mediterranea     58\n",
            "Chef de comida venezolana       57\n",
            "Chef de quesos                  56\n",
            "Pizza                           54\n",
            "Chef de comida africana         54\n",
            "Chef de carnes                  53\n",
            "Chef pastelero                  49\n",
            "Chef de comida americana        49\n",
            "Chef de comida mexicana         49\n",
            "Chef de vinos                   48\n",
            "Chef de comida italiana         47\n",
            "Chef de comida latina           46\n",
            "Chef de postres                 46\n",
            "Chef de comida asiática         46\n",
            "Chef de comida vegana           46\n",
            "Chef de cocina                  45\n",
            "Chef de chocolates              43\n",
            "Chef de comida rápida           40\n",
            "Name: specialties, dtype: int64\n"
          ]
        }
      ]
    },
    {
      "cell_type": "code",
      "source": [
        "print(df_chefs['specialties'].unique())"
      ],
      "metadata": {
        "colab": {
          "base_uri": "https://localhost:8080/"
        },
        "id": "SW4u26II4_-q",
        "outputId": "8197a2c2-633e-489b-b056-54a9e6e712f3"
      },
      "execution_count": null,
      "outputs": [
        {
          "output_type": "stream",
          "name": "stdout",
          "text": [
            "['Chef pastelero' 'Chef de comida mediterranea' 'Sin especialidad'\n",
            " 'Chef de carnes' 'Chef de comida asiática' 'Pizza' 'Chef de vinos'\n",
            " 'Chef de pescado' 'Chef de postres' 'Chef de comida latina'\n",
            " 'Chef de comida italiana' 'Chef de comida mexicana'\n",
            " 'Chef de comida venezolana' 'Chef de chocolates' 'Chef de comida rápida'\n",
            " 'Chef de cocina' 'Chef de comida africana' 'Chef de quesos'\n",
            " 'Chef de comida americana' 'Chef de comida vegana']\n"
          ]
        }
      ]
    },
    {
      "cell_type": "code",
      "source": [
        "pd.set_option('display.max_rows', None)\n",
        "unique_name = df_chefs['name'].value_counts()\n",
        "print(unique_name)"
      ],
      "metadata": {
        "id": "DPLayzaRt1WD"
      },
      "execution_count": null,
      "outputs": []
    },
    {
      "cell_type": "code",
      "source": [
        "pd.set_option('display.max_rows', None)\n",
        "unique_experience = df_chefs['culinary_experience'].value_counts()\n",
        "print(unique_experience)"
      ],
      "metadata": {
        "colab": {
          "base_uri": "https://localhost:8080/"
        },
        "id": "sgDCpKSM4Qbq",
        "outputId": "d0489132-87d7-4cbf-cdf9-2ee3295af150"
      },
      "execution_count": null,
      "outputs": [
        {
          "output_type": "stream",
          "name": "stdout",
          "text": [
            "Sin experiencia                                             215\n",
            "Entrenamiento bajo supervición de un chef experimentado     206\n",
            "Participación en competencias culinarias internacionales    203\n",
            "Entrenamiento formal                                        194\n",
            "Experiencia laboral                                         191\n",
            "Participación en competencias culinarias nacionales         191\n",
            "Name: culinary_experience, dtype: int64\n"
          ]
        }
      ]
    },
    {
      "cell_type": "code",
      "source": [
        "pd.set_option('display.max_rows', None)\n",
        "unique_social = df_chefs['social_networks'].value_counts()\n",
        "print(unique_social)"
      ],
      "metadata": {
        "id": "y_XtvTC7xvjT"
      },
      "execution_count": null,
      "outputs": []
    },
    {
      "cell_type": "code",
      "source": [
        "df_chefs.head(2)"
      ],
      "metadata": {
        "id": "sgIp4M0AyMGl"
      },
      "execution_count": null,
      "outputs": []
    },
    {
      "cell_type": "code",
      "source": [
        "pd.set_option('display.max_colwidth', None)"
      ],
      "metadata": {
        "id": "MaZyVEYA5RFR"
      },
      "execution_count": null,
      "outputs": []
    },
    {
      "cell_type": "code",
      "source": [
        "df_chefs[['name','culinary_experience','specialties']]"
      ],
      "metadata": {
        "id": "ts7sPPzl5VuB"
      },
      "execution_count": null,
      "outputs": []
    },
    {
      "cell_type": "code",
      "source": [
        "# Filtro el DataFrame para obtener solo los chefs con 'Sin especialidad'\n",
        "df_sin_especialidad = df_chefs[df_chefs['specialties'] == 'Sin especialidad']\n",
        "\n",
        "#  Imprimo los valores únicos en la columna 'culinary_experience' para estos chefs\n",
        "print(df_sin_especialidad['culinary_experience'].unique())\n"
      ],
      "metadata": {
        "colab": {
          "base_uri": "https://localhost:8080/"
        },
        "id": "aE5eAQLo2b5S",
        "outputId": "befdb1ef-73fd-4e25-b1da-4e1bb800960b"
      },
      "execution_count": null,
      "outputs": [
        {
          "output_type": "stream",
          "name": "stdout",
          "text": [
            "['Sin experiencia'\n",
            " 'Participación en competencias culinarias internacionales'\n",
            " 'Entrenamiento bajo supervición de un chef experimentado'\n",
            " 'Participación en competencias culinarias nacionales'\n",
            " 'Entrenamiento formal' 'Experiencia laboral']\n"
          ]
        }
      ]
    },
    {
      "cell_type": "code",
      "source": [
        "df_chefs.isnull().sum()"
      ],
      "metadata": {
        "colab": {
          "base_uri": "https://localhost:8080/"
        },
        "id": "IDBP-PE56LWS",
        "outputId": "7d1402af-ab3c-4217-d822-02b5a8a332fe"
      },
      "execution_count": null,
      "outputs": [
        {
          "output_type": "execute_result",
          "data": {
            "text/plain": [
              "_id                    0\n",
              "name                   0\n",
              "photo                  0\n",
              "culinary_experience    0\n",
              "specialties            0\n",
              "geographic_location    0\n",
              "social_networks        0\n",
              "dtype: int64"
            ]
          },
          "metadata": {},
          "execution_count": 13
        }
      ]
    },
    {
      "cell_type": "code",
      "source": [
        "df_chefs.info()"
      ],
      "metadata": {
        "colab": {
          "base_uri": "https://localhost:8080/"
        },
        "id": "SUBZevOLGmCs",
        "outputId": "f7bd6501-260a-4113-db65-57d454d0e017"
      },
      "execution_count": null,
      "outputs": [
        {
          "output_type": "stream",
          "name": "stdout",
          "text": [
            "<class 'pandas.core.frame.DataFrame'>\n",
            "RangeIndex: 1200 entries, 0 to 1199\n",
            "Data columns (total 7 columns):\n",
            " #   Column               Non-Null Count  Dtype \n",
            "---  ------               --------------  ----- \n",
            " 0   _id                  1200 non-null   int64 \n",
            " 1   name                 1200 non-null   object\n",
            " 2   photo                1200 non-null   object\n",
            " 3   culinary_experience  1200 non-null   object\n",
            " 4   specialties          1200 non-null   object\n",
            " 5   geographic_location  1200 non-null   object\n",
            " 6   social_networks      1200 non-null   object\n",
            "dtypes: int64(1), object(6)\n",
            "memory usage: 65.8+ KB\n"
          ]
        }
      ]
    },
    {
      "cell_type": "code",
      "source": [
        "column_name = ['name','culinary_experience','specialties']\n",
        "duplicates = df_chefs[column_name].duplicated().sum()"
      ],
      "metadata": {
        "id": "fhn5lPHmG6JH"
      },
      "execution_count": null,
      "outputs": []
    },
    {
      "cell_type": "code",
      "source": [
        "print(duplicates)"
      ],
      "metadata": {
        "colab": {
          "base_uri": "https://localhost:8080/"
        },
        "id": "PBDJhXznIOQD",
        "outputId": "974dad95-4549-4925-b9cd-d114b6a6deb0"
      },
      "execution_count": null,
      "outputs": [
        {
          "output_type": "stream",
          "name": "stdout",
          "text": [
            "0\n"
          ]
        }
      ]
    },
    {
      "cell_type": "code",
      "source": [
        "# Convertimos columnas que son listas a tuplas\n",
        "df_chefs['social_networks'] = df_chefs['social_networks'].apply(tuple)\n",
        "# Así puedo ahora buscar duplicados sin que me de error\n",
        "duplicates_in_columns = df_chefs.duplicated(subset='social_networks')\n"
      ],
      "metadata": {
        "id": "Pwr694hh6S76"
      },
      "execution_count": null,
      "outputs": []
    },
    {
      "cell_type": "code",
      "source": [
        "print(\"Duplicates in columns:\")\n",
        "print(duplicates_in_columns)"
      ],
      "metadata": {
        "id": "L9U4GCfcEr_f"
      },
      "execution_count": null,
      "outputs": []
    },
    {
      "cell_type": "code",
      "source": [
        "columns_to_check = ['name','culinary_experience','specialties']"
      ],
      "metadata": {
        "id": "mx7pHkm-FZrq"
      },
      "execution_count": null,
      "outputs": []
    },
    {
      "cell_type": "code",
      "source": [
        "duplicates_columns = df_chefs.duplicated(subset=columns_to_check).value_counts"
      ],
      "metadata": {
        "id": "y2TmfG3rFubk"
      },
      "execution_count": null,
      "outputs": []
    },
    {
      "cell_type": "code",
      "source": [
        "print(\"Duplicates columns:\")\n",
        "print(duplicates_columns)"
      ],
      "metadata": {
        "id": "zSvvoBR0GEHS"
      },
      "execution_count": null,
      "outputs": []
    },
    {
      "cell_type": "code",
      "source": [
        "from sklearn.feature_extraction.text import CountVectorizer\n",
        "from sklearn.metrics.pairwise import cosine_similarity"
      ],
      "metadata": {
        "id": "RFyt6pjtIZOX"
      },
      "execution_count": null,
      "outputs": []
    },
    {
      "cell_type": "code",
      "source": [
        "def chef_recommender(df_chefs):\n",
        "    try:\n",
        "        # Concatenamos las variables 'culinary_experience' y 'specialties' para formar la descripción del chef\n",
        "        df_chefs['chef_description'] = df_chefs['culinary_experience'].str.lower() + ' ' + df_chefs['specialties'].str.lower()\n",
        "\n",
        "        # Utilizamos CountVectorizer para convertir la descripción del chef en una matriz de términos\n",
        "        vectorizer = CountVectorizer()\n",
        "        chef_matrix = vectorizer.fit_transform(df_chefs['chef_description'])\n",
        "\n",
        "        # Calculamos la similitud del coseno entre las descripciones de chefs\n",
        "        similarity_matrix = cosine_similarity(chef_matrix, chef_matrix)\n",
        "\n",
        "        return similarity_matrix\n",
        "\n",
        "    except Exception as e:\n",
        "        print(f\"Error en chef_recommender: {e}\")\n",
        "        return pd.DataFrame()\n",
        "\n",
        "# Ejemplo de uso\n",
        "try:\n",
        "    # Suponiendo que data_chefs es tu DataFrame con los datos de chefs\n",
        "    matriz_similitud_chefs = chef_recommender(df_chefs)\n",
        "    print(matriz_similitud_chefs)\n",
        "except Exception as e:\n",
        "    print(f\"Error en el ejemplo de uso: {e}\")"
      ],
      "metadata": {
        "colab": {
          "base_uri": "https://localhost:8080/"
        },
        "id": "X2hZLl60Iv9P",
        "outputId": "7ace2b6c-e80c-4528-cfc2-38a7477006f2"
      },
      "execution_count": null,
      "outputs": [
        {
          "output_type": "stream",
          "name": "stdout",
          "text": [
            "[[1.         0.16666667 0.20412415 ... 0.37796447 0.20412415 0.16666667]\n",
            " [0.16666667 1.         0.         ... 0.75592895 0.         0.77777778]\n",
            " [0.20412415 0.         1.         ... 0.         1.         0.        ]\n",
            " ...\n",
            " [0.37796447 0.75592895 0.         ... 1.         0.         0.62994079]\n",
            " [0.20412415 0.         1.         ... 0.         1.         0.        ]\n",
            " [0.16666667 0.77777778 0.         ... 0.62994079 0.         1.        ]]\n"
          ]
        }
      ]
    },
    {
      "cell_type": "code",
      "source": [
        "def recomendar_chef(experiencia, especialidad, df_chefs, matriz_similitud, umbral_similitud=0.1, num_recomendaciones=5):\n",
        "    try:\n",
        "        # Encontramos el índice del chef en el DataFrame\n",
        "        indice_chef = df_chefs[(df_chefs['culinary_experience'] == experiencia) & (df_chefs['specialties'] == especialidad)].index[0]\n",
        "    except IndexError:\n",
        "        print(f\"Error: Chef con experiencia '{experiencia}' y especialidad '{especialidad}' no encontrado en el DataFrame.\")\n",
        "        return pd.DataFrame()  # Devolvemos un DataFrame vacío en caso de error\n",
        "\n",
        "    # Obtenemos la fila correspondiente en la matriz de similitud\n",
        "    similitudes_chef = matriz_similitud[indice_chef]\n",
        "\n",
        "    # Filtramos las similitudes por umbral\n",
        "    similitudes_filtradas = [(i, sim) for i, sim in enumerate(similitudes_chef) if sim > umbral_similitud]\n",
        "\n",
        "    # Imprimir información para rastreo\n",
        "    print(\"Similitudes antes de filtrar:\", similitudes_chef)\n",
        "    print(\"Similitudes después de filtrar por umbral:\", similitudes_filtradas)\n",
        "\n",
        "    # Si no hay similitudes suficientes, devolvemos un DataFrame vacío\n",
        "    if not similitudes_filtradas:\n",
        "        print(\"Error: No hay recomendaciones disponibles para los criterios especificados.\")\n",
        "        return pd.DataFrame()\n",
        "\n",
        "    # Ordenamos las similitudes y tomamos los índices\n",
        "    indices_ordenados = [i for i, _ in sorted(similitudes_filtradas, key=lambda x: x[1], reverse=True)]\n",
        "\n",
        "    # Imprimir información para rastreo\n",
        "    print(\"Índices ordenados antes de filtrar por experiencia y especialidad:\", indices_ordenados)\n",
        "\n",
        "    # Filtramos las recomendaciones por experiencia y especialidad (puedes ajustar esto según tus necesidades)\n",
        "    recomendaciones = df_chefs.loc[indices_ordenados]\n",
        "\n",
        "    # Verificamos si hay recomendaciones después de aplicar los filtros\n",
        "    if recomendaciones.empty:\n",
        "        print(f\"No hay recomendaciones para los criterios especificados en '{experiencia}' y '{especialidad}'.\")\n",
        "        return pd.DataFrame()\n",
        "\n",
        "    # Limitamos el número de recomendaciones\n",
        "    recomendaciones = recomendaciones.head(num_recomendaciones)\n",
        "\n",
        "    return recomendaciones\n",
        "\n",
        "# Ejemplo de uso\n",
        "try:\n",
        "    # Supongamos que data_chefs es tu DataFrame con los datos de chefs\n",
        "    experiencia_interes = 'Participación en competencias culinarias internacionales'\n",
        "    especialidad_interes = 'Pizza'\n",
        "\n",
        "    # y matriz_similitud_chefs es la matriz de similitud entre chefs\n",
        "    recomendaciones_chefs = recomendar_chef(experiencia_interes, especialidad_interes, df_chefs, matriz_similitud_chefs)\n",
        "    print(recomendaciones_chefs)\n",
        "except Exception as e:\n",
        "    print(f\"Error en el ejemplo de uso: {e}\")\n"
      ],
      "metadata": {
        "colab": {
          "base_uri": "https://localhost:8080/"
        },
        "id": "k4v6JI0CJkDn",
        "outputId": "3a096eb6-d6a2-4c85-a2b1-33f573012dcf"
      },
      "execution_count": null,
      "outputs": [
        {
          "output_type": "stream",
          "name": "stdout",
          "text": [
            "Similitudes antes de filtrar: [0.         0.68041382 0.         ... 0.77151675 0.         0.54433105]\n",
            "Similitudes después de filtrar por umbral: [(1, 0.6804138174397717), (3, 0.5773502691896258), (4, 0.6804138174397717), (5, 0.7216878364870323), (6, 0.14433756729740646), (9, 0.2357022603955159), (10, 0.5443310539518174), (16, 0.6804138174397717), (17, 0.6804138174397717), (18, 0.6172133998483676), (24, 0.5443310539518174), (30, 0.5443310539518174), (34, 0.6804138174397717), (35, 0.5443310539518174), (40, 0.6804138174397717), (41, 0.6804138174397717), (43, 0.5443310539518174), (48, 0.6804138174397717), (51, 0.5773502691896258), (52, 0.5773502691896258), (53, 0.6172133998483676), (55, 0.6804138174397717), (61, 0.6804138174397717), (63, 0.6172133998483676), (69, 0.7715167498104596), (74, 0.7216878364870323), (77, 0.5443310539518174), (79, 0.5443310539518174), (81, 0.6804138174397717), (82, 0.2357022603955159), (84, 0.6804138174397717), (89, 0.5773502691896258), (95, 0.5443310539518174), (99, 0.6804138174397717), (100, 0.7216878364870323), (103, 0.6804138174397717), (104, 0.5773502691896258), (115, 0.7216878364870323), (117, 0.6172133998483676), (121, 0.5443310539518174), (124, 0.5443310539518174), (126, 0.6804138174397717), (131, 0.6804138174397717), (132, 0.6172133998483676), (141, 0.6804138174397717), (144, 0.6804138174397717), (145, 0.5773502691896258), (148, 0.7216878364870323), (150, 0.14433756729740646), (154, 0.7216878364870323), (155, 0.5443310539518174), (156, 0.5443310539518174), (159, 0.7216878364870323), (164, 0.5773502691896258), (165, 0.5773502691896258), (166, 0.5443310539518174), (167, 0.5773502691896258), (169, 0.5773502691896258), (170, 1.0000000000000002), (172, 0.5443310539518174), (176, 0.5773502691896258), (177, 0.6172133998483676), (178, 0.5443310539518174), (181, 0.5773502691896258), (186, 0.14433756729740646), (188, 0.8333333333333336), (189, 0.5773502691896258), (191, 0.5773502691896258), (194, 0.5773502691896258), (195, 0.5443310539518174), (197, 0.7216878364870323), (199, 0.6804138174397717), (205, 0.6804138174397717), (208, 0.6172133998483676), (210, 0.6804138174397717), (212, 0.7715167498104596), (228, 0.5773502691896258), (231, 0.6804138174397717), (232, 0.5443310539518174), (233, 0.7216878364870323), (235, 0.5773502691896258), (236, 0.5773502691896258), (238, 0.6804138174397717), (243, 0.7216878364870323), (248, 0.7216878364870323), (249, 0.7216878364870323), (253, 0.6804138174397717), (276, 0.5443310539518174), (279, 0.6804138174397717), (283, 0.6804138174397717), (285, 0.6804138174397717), (286, 0.5443310539518174), (288, 0.6804138174397717), (289, 0.6804138174397717), (292, 0.7715167498104596), (293, 0.14433756729740646), (295, 0.6804138174397717), (296, 0.5443310539518174), (297, 0.5773502691896258), (299, 0.6172133998483676), (304, 0.5443310539518174), (306, 0.5773502691896258), (310, 0.5443310539518174), (311, 0.5443310539518174), (312, 0.5443310539518174), (316, 0.6804138174397717), (319, 0.2357022603955159), (321, 0.8333333333333336), (322, 0.5443310539518174), (324, 0.7216878364870323), (326, 0.7715167498104596), (329, 1.0000000000000002), (330, 0.6804138174397717), (333, 0.5443310539518174), (337, 0.5443310539518174), (341, 0.5773502691896258), (347, 0.7216878364870323), (350, 0.2357022603955159), (352, 0.7216878364870323), (355, 0.7216878364870323), (357, 0.5443310539518174), (359, 0.5443310539518174), (362, 0.7216878364870323), (364, 0.5443310539518174), (365, 0.5773502691896258), (367, 0.6804138174397717), (369, 0.7216878364870323), (370, 0.7216878364870323), (371, 0.7715167498104596), (373, 0.7216878364870323), (376, 0.7216878364870323), (378, 0.6804138174397717), (379, 0.7216878364870323), (383, 0.7715167498104596), (386, 0.5773502691896258), (390, 0.5773502691896258), (395, 0.5443310539518174), (397, 0.7216878364870323), (401, 0.6804138174397717), (402, 0.8333333333333336), (405, 0.6804138174397717), (406, 0.14433756729740646), (408, 0.6804138174397717), (410, 0.5773502691896258), (418, 0.6804138174397717), (419, 0.7216878364870323), (422, 0.5773502691896258), (423, 0.6804138174397717), (424, 0.6804138174397717), (425, 0.7715167498104596), (429, 0.14433756729740646), (430, 0.7715167498104596), (434, 0.7216878364870323), (441, 0.7216878364870323), (443, 0.5773502691896258), (444, 0.5443310539518174), (445, 0.6804138174397717), (451, 0.5773502691896258), (452, 0.14433756729740646), (453, 0.5443310539518174), (460, 0.6804138174397717), (461, 0.7216878364870323), (462, 0.6804138174397717), (463, 0.7216878364870323), (464, 0.6804138174397717), (466, 0.6804138174397717), (470, 0.5773502691896258), (472, 0.6804138174397717), (476, 0.7216878364870323), (478, 0.5443310539518174), (481, 0.5443310539518174), (482, 0.6804138174397717), (484, 0.2357022603955159), (487, 0.7216878364870323), (489, 0.2357022603955159), (490, 0.6804138174397717), (493, 0.6804138174397717), (494, 0.5773502691896258), (495, 0.6804138174397717), (498, 0.6804138174397717), (500, 0.5443310539518174), (503, 0.6804138174397717), (505, 0.5773502691896258), (508, 0.5443310539518174), (510, 0.5443310539518174), (514, 0.5443310539518174), (520, 0.5443310539518174), (522, 0.7715167498104596), (525, 0.6804138174397717), (526, 0.6804138174397717), (527, 0.2357022603955159), (529, 0.6172133998483676), (533, 0.5773502691896258), (536, 0.6804138174397717), (539, 0.7216878364870323), (542, 0.6804138174397717), (544, 0.6804138174397717), (546, 0.6804138174397717), (560, 0.8333333333333336), (564, 0.7715167498104596), (566, 0.5443310539518174), (571, 0.6804138174397717), (574, 0.7715167498104596), (578, 0.7216878364870323), (579, 0.5443310539518174), (583, 0.5773502691896258), (594, 0.7715167498104596), (597, 0.5773502691896258), (600, 0.2357022603955159), (602, 0.7715167498104596), (603, 0.2357022603955159), (606, 0.5773502691896258), (611, 0.6172133998483676), (616, 0.5443310539518174), (622, 0.5773502691896258), (623, 0.5443310539518174), (624, 0.6804138174397717), (627, 0.6804138174397717), (629, 0.6804138174397717), (631, 0.5443310539518174), (633, 0.6804138174397717), (637, 0.7216878364870323), (639, 0.7216878364870323), (646, 0.5443310539518174), (647, 0.5773502691896258), (649, 0.5443310539518174), (651, 0.7216878364870323), (652, 0.6804138174397717), (658, 0.6804138174397717), (659, 0.5773502691896258), (661, 0.7216878364870323), (670, 0.5773502691896258), (673, 0.6804138174397717), (674, 0.5443310539518174), (681, 0.5773502691896258), (684, 0.7715167498104596), (686, 0.5773502691896258), (688, 0.5443310539518174), (693, 0.5443310539518174), (694, 0.6804138174397717), (697, 0.7216878364870323), (703, 0.5443310539518174), (706, 0.2357022603955159), (712, 0.5443310539518174), (716, 0.7216878364870323), (717, 0.7216878364870323), (730, 0.5773502691896258), (732, 0.7216878364870323), (735, 0.5443310539518174), (737, 0.6172133998483676), (740, 0.2357022603955159), (745, 0.5773502691896258), (750, 0.5443310539518174), (755, 1.0000000000000002), (756, 0.6804138174397717), (757, 0.7216878364870323), (764, 0.5443310539518174), (766, 0.5443310539518174), (772, 0.6804138174397717), (773, 0.2357022603955159), (774, 0.5443310539518174), (778, 0.7216878364870323), (780, 0.14433756729740646), (783, 0.6804138174397717), (784, 0.6172133998483676), (790, 0.2357022603955159), (792, 0.6804138174397717), (794, 0.2357022603955159), (795, 0.6172133998483676), (796, 0.2357022603955159), (799, 0.5443310539518174), (800, 0.7216878364870323), (801, 1.0000000000000002), (804, 0.7216878364870323), (806, 0.5773502691896258), (812, 0.7216878364870323), (815, 0.2357022603955159), (816, 0.5773502691896258), (818, 0.5443310539518174), (819, 0.14433756729740646), (821, 0.7216878364870323), (822, 0.6804138174397717), (825, 0.7216878364870323), (826, 0.5443310539518174), (829, 0.6804138174397717), (830, 0.5773502691896258), (831, 1.0000000000000002), (832, 0.6804138174397717), (833, 0.8333333333333336), (839, 0.6804138174397717), (847, 0.5443310539518174), (850, 0.5443310539518174), (857, 0.5773502691896258), (859, 0.6804138174397717), (860, 0.7216878364870323), (863, 0.5443310539518174), (864, 0.6804138174397717), (868, 0.6172133998483676), (871, 0.6172133998483676), (873, 0.5443310539518174), (874, 0.7216878364870323), (877, 0.6804138174397717), (880, 0.7216878364870323), (882, 0.5443310539518174), (885, 0.6804138174397717), (887, 1.0000000000000002), (903, 0.6804138174397717), (904, 0.7216878364870323), (905, 0.6804138174397717), (908, 0.5443310539518174), (911, 0.6172133998483676), (912, 0.5443310539518174), (921, 0.5443310539518174), (922, 0.6804138174397717), (923, 0.6804138174397717), (925, 0.5443310539518174), (926, 0.7216878364870323), (927, 0.5773502691896258), (929, 0.5773502691896258), (932, 0.2357022603955159), (933, 0.7216878364870323), (934, 0.5773502691896258), (940, 0.5773502691896258), (942, 0.8333333333333336), (944, 0.5773502691896258), (948, 1.0000000000000002), (951, 0.7715167498104596), (952, 0.5773502691896258), (955, 0.2357022603955159), (956, 0.6804138174397717), (961, 0.5773502691896258), (965, 0.6804138174397717), (968, 0.6804138174397717), (969, 0.5773502691896258), (971, 0.7216878364870323), (972, 0.6804138174397717), (977, 0.8333333333333336), (982, 0.6172133998483676), (984, 1.0000000000000002), (986, 0.8333333333333336), (991, 0.5773502691896258), (992, 0.5773502691896258), (993, 0.6172133998483676), (994, 0.6804138174397717), (996, 0.6804138174397717), (1000, 0.5443310539518174), (1001, 0.5773502691896258), (1002, 0.6804138174397717), (1003, 0.5443310539518174), (1006, 0.5773502691896258), (1008, 0.6804138174397717), (1010, 0.7216878364870323), (1014, 0.6804138174397717), (1017, 0.7216878364870323), (1023, 1.0000000000000002), (1025, 0.5443310539518174), (1027, 0.5773502691896258), (1029, 0.5443310539518174), (1039, 0.5443310539518174), (1042, 0.5443310539518174), (1048, 0.5773502691896258), (1051, 0.7216878364870323), (1052, 0.7216878364870323), (1053, 0.7216878364870323), (1057, 0.2357022603955159), (1059, 0.6804138174397717), (1060, 0.6804138174397717), (1062, 0.5773502691896258), (1063, 0.5443310539518174), (1065, 0.7216878364870323), (1067, 1.0000000000000002), (1068, 0.8333333333333336), (1073, 0.6804138174397717), (1074, 0.5443310539518174), (1076, 0.6804138174397717), (1077, 1.0000000000000002), (1091, 0.6804138174397717), (1092, 0.5443310539518174), (1094, 0.6804138174397717), (1095, 0.5443310539518174), (1097, 0.6804138174397717), (1104, 0.6804138174397717), (1105, 0.7216878364870323), (1106, 0.6172133998483676), (1109, 0.6172133998483676), (1113, 0.5773502691896258), (1117, 0.5773502691896258), (1120, 0.5443310539518174), (1122, 0.7216878364870323), (1124, 0.8333333333333336), (1126, 0.5443310539518174), (1128, 0.5443310539518174), (1129, 0.6804138174397717), (1132, 0.5443310539518174), (1136, 0.5443310539518174), (1142, 0.5773502691896258), (1143, 0.6172133998483676), (1144, 0.5443310539518174), (1151, 0.5773502691896258), (1152, 0.7216878364870323), (1155, 0.7216878364870323), (1156, 0.6804138174397717), (1158, 0.6804138174397717), (1162, 0.5443310539518174), (1163, 0.6804138174397717), (1164, 0.8333333333333336), (1166, 0.7216878364870323), (1171, 1.0000000000000002), (1172, 0.2357022603955159), (1177, 0.5773502691896258), (1179, 0.6804138174397717), (1181, 0.7216878364870323), (1182, 0.5773502691896258), (1185, 0.6804138174397717), (1186, 1.0000000000000002), (1187, 0.6172133998483676), (1188, 0.7216878364870323), (1189, 0.5773502691896258), (1190, 0.7216878364870323), (1192, 0.5443310539518174), (1196, 0.8333333333333336), (1197, 0.7715167498104596), (1199, 0.5443310539518174)]\n",
            "Índices ordenados antes de filtrar por experiencia y especialidad: [170, 329, 755, 801, 831, 887, 948, 984, 1023, 1067, 1077, 1171, 1186, 188, 321, 402, 560, 833, 942, 977, 986, 1068, 1124, 1164, 1196, 69, 212, 292, 326, 371, 383, 425, 430, 522, 564, 574, 594, 602, 684, 951, 1197, 5, 74, 100, 115, 148, 154, 159, 197, 233, 243, 248, 249, 324, 347, 352, 355, 362, 369, 370, 373, 376, 379, 397, 419, 434, 441, 461, 463, 476, 487, 539, 578, 637, 639, 651, 661, 697, 716, 717, 732, 757, 778, 800, 804, 812, 821, 825, 860, 874, 880, 904, 926, 933, 971, 1010, 1017, 1051, 1052, 1053, 1065, 1105, 1122, 1152, 1155, 1166, 1181, 1188, 1190, 1, 4, 16, 17, 34, 40, 41, 48, 55, 61, 81, 84, 99, 103, 126, 131, 141, 144, 199, 205, 210, 231, 238, 253, 279, 283, 285, 288, 289, 295, 316, 330, 367, 378, 401, 405, 408, 418, 423, 424, 445, 460, 462, 464, 466, 472, 482, 490, 493, 495, 498, 503, 525, 526, 536, 542, 544, 546, 571, 624, 627, 629, 633, 652, 658, 673, 694, 756, 772, 783, 792, 822, 829, 832, 839, 859, 864, 877, 885, 903, 905, 922, 923, 956, 965, 968, 972, 994, 996, 1002, 1008, 1014, 1059, 1060, 1073, 1076, 1091, 1094, 1097, 1104, 1129, 1156, 1158, 1163, 1179, 1185, 18, 53, 63, 117, 132, 177, 208, 299, 529, 611, 737, 784, 795, 868, 871, 911, 982, 993, 1106, 1109, 1143, 1187, 3, 51, 52, 89, 104, 145, 164, 165, 167, 169, 176, 181, 189, 191, 194, 228, 235, 236, 297, 306, 341, 365, 386, 390, 410, 422, 443, 451, 470, 494, 505, 533, 583, 597, 606, 622, 647, 659, 670, 681, 686, 730, 745, 806, 816, 830, 857, 927, 929, 934, 940, 944, 952, 961, 969, 991, 992, 1001, 1006, 1027, 1048, 1062, 1113, 1117, 1142, 1151, 1177, 1182, 1189, 10, 24, 30, 35, 43, 77, 79, 95, 121, 124, 155, 156, 166, 172, 178, 195, 232, 276, 286, 296, 304, 310, 311, 312, 322, 333, 337, 357, 359, 364, 395, 444, 453, 478, 481, 500, 508, 510, 514, 520, 566, 579, 616, 623, 631, 646, 649, 674, 688, 693, 703, 712, 735, 750, 764, 766, 774, 799, 818, 826, 847, 850, 863, 873, 882, 908, 912, 921, 925, 1000, 1003, 1025, 1029, 1039, 1042, 1063, 1074, 1092, 1095, 1120, 1126, 1128, 1132, 1136, 1144, 1162, 1192, 1199, 9, 82, 319, 350, 484, 489, 527, 600, 603, 706, 740, 773, 790, 794, 796, 815, 932, 955, 1057, 1172, 6, 150, 186, 293, 406, 429, 452, 780, 819]\n",
            "     _id              name  \\\n",
            "170  171       Eliott Sola   \n",
            "329  330     Youssef Saura   \n",
            "755  756  Marin Santamaria   \n",
            "801  802     Elliot Espejo   \n",
            "831  832       Ethan Belda   \n",
            "\n",
            "                                                                                                   photo  \\\n",
            "170  https://upload.wikimedia.org/wikipedia/commons/thumb/6/6f/Gordon_Ramsay.jpg/640px-Gordon_Ramsay.jpg   \n",
            "329  https://upload.wikimedia.org/wikipedia/commons/thumb/6/6f/Gordon_Ramsay.jpg/640px-Gordon_Ramsay.jpg   \n",
            "755  https://upload.wikimedia.org/wikipedia/commons/thumb/6/6f/Gordon_Ramsay.jpg/640px-Gordon_Ramsay.jpg   \n",
            "801  https://upload.wikimedia.org/wikipedia/commons/thumb/6/6f/Gordon_Ramsay.jpg/640px-Gordon_Ramsay.jpg   \n",
            "831  https://upload.wikimedia.org/wikipedia/commons/thumb/6/6f/Gordon_Ramsay.jpg/640px-Gordon_Ramsay.jpg   \n",
            "\n",
            "                                          culinary_experience specialties  \\\n",
            "170  Participación en competencias culinarias internacionales       Pizza   \n",
            "329  Participación en competencias culinarias internacionales       Pizza   \n",
            "755  Participación en competencias culinarias internacionales       Pizza   \n",
            "801  Participación en competencias culinarias internacionales       Pizza   \n",
            "831  Participación en competencias culinarias internacionales       Pizza   \n",
            "\n",
            "                                                          geographic_location  \\\n",
            "170                         Calle Hernán Cortés N°19, Madrid (Ciudad). Madrid   \n",
            "329                                   avda. voluntarios 26, Galapagar. Madrid   \n",
            "755  Ctra. Collado Villalba a Moralzarzal Km 2,400 , Collado Villalba. Madrid   \n",
            "801                                          embalse 4 c, Fuenlabrada. Madrid   \n",
            "831                                 Av. Europa 25, Pozuelo de Alarcón. Madrid   \n",
            "\n",
            "                                                                                                                                                  social_networks  \\\n",
            "170                 ({'name': 'Instagram', 'username': 'eliottsola321', 'followers': 59617}, {'name': 'Facebook', 'username': 'Eliott Sola', 'followers': 66989})   \n",
            "329               ({'name': 'Instagram', 'username': 'youssefsaura__', 'followers': 38639}, {'name': 'Facebook', 'username': 'Youssef Saura', 'followers': 8029})   \n",
            "755  ({'name': 'Instagram', 'username': 'marinsantamaria_oficial', 'followers': 15080}, {'name': 'Facebook', 'username': 'Marin Santamaria', 'followers': 84410})   \n",
            "801           ({'name': 'Instagram', 'username': 'elliotespejo_2023', 'followers': 21759}, {'name': 'Facebook', 'username': 'Elliot Espejo', 'followers': 59053})   \n",
            "831  ({'name': 'Instagram', 'username': 'ethanbelda_chef_professional', 'followers': 75805}, {'name': 'Facebook', 'username': 'Ethan Belda', 'followers': 18976})   \n",
            "\n",
            "                                                   chef_description  \n",
            "170  participación en competencias culinarias internacionales pizza  \n",
            "329  participación en competencias culinarias internacionales pizza  \n",
            "755  participación en competencias culinarias internacionales pizza  \n",
            "801  participación en competencias culinarias internacionales pizza  \n",
            "831  participación en competencias culinarias internacionales pizza  \n"
          ]
        }
      ]
    }
  ]
}